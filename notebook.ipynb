{
  "nbformat": 4,
  "nbformat_minor": 0,
  "metadata": {
    "colab": {
      "name": "test_oce.ipynb",
      "provenance": [],
      "collapsed_sections": [],
      "toc_visible": true
    },
    "kernelspec": {
      "name": "python3",
      "display_name": "Python 3"
    },
    "accelerator": "GPU"
  },
  "cells": [
    {
      "cell_type": "code",
      "metadata": {
        "id": "gekD3Ohzm_V0",
        "colab_type": "code",
        "colab": {}
      },
      "source": [
        "import pandas as pd\n",
        "import numpy as np\n",
        "import tensorflow as tf\n",
        "from tensorflow import Tensor\n",
        "from tensorflow import keras\n",
        "from tensorflow.keras.models import load_model\n",
        "from tensorflow.keras.utils import plot_model\n",
        "from sklearn import metrics\n",
        "from google.colab import drive\n"
      ],
      "execution_count": 15,
      "outputs": []
    },
    {
      "cell_type": "markdown",
      "metadata": {
        "id": "XPC7hcVWP6fG",
        "colab_type": "text"
      },
      "source": [
        "From this [page](https://drive.google.com/drive/folders/1gsc79_4DkrJtWRlxWXSZSxNHV5LZDKg4?usp=sharing) you can find the FER2013 dataset and all H5 files. You have to download the directory and insert into your Goggle Drive and than you can execute this notebook."
      ]
    },
    {
      "cell_type": "code",
      "metadata": {
        "_uuid": "d629ff2d2480ee46fbb7e2d37f6b5fab8052498a",
        "_cell_guid": "79c7e3d0-c299-4dcb-8224-4455121ee9b0",
        "trusted": true,
        "id": "EWwCcIfiuy2h",
        "colab_type": "code",
        "colab": {
          "base_uri": "https://localhost:8080/",
          "height": 451
        },
        "outputId": "6fa05295-781e-4420-ff7f-e1282fd39ed7"
      },
      "source": [
        "drive.mount('/content/drive')\n",
        "\n",
        "file = '/content/drive/My Drive/VCSproject/fer20131.csv'\n",
        "df = pd.read_csv(file)\n",
        "df.head(10)"
      ],
      "execution_count": 16,
      "outputs": [
        {
          "output_type": "stream",
          "text": [
            "Go to this URL in a browser: https://accounts.google.com/o/oauth2/auth?client_id=947318989803-6bn6qk8qdgf4n4g3pfee6491hc0brc4i.apps.googleusercontent.com&redirect_uri=urn%3aietf%3awg%3aoauth%3a2.0%3aoob&response_type=code&scope=email%20https%3a%2f%2fwww.googleapis.com%2fauth%2fdocs.test%20https%3a%2f%2fwww.googleapis.com%2fauth%2fdrive%20https%3a%2f%2fwww.googleapis.com%2fauth%2fdrive.photos.readonly%20https%3a%2f%2fwww.googleapis.com%2fauth%2fpeopleapi.readonly\n",
            "\n",
            "Enter your authorization code:\n",
            "··········\n",
            "Mounted at /content/drive\n"
          ],
          "name": "stdout"
        },
        {
          "output_type": "execute_result",
          "data": {
            "text/html": [
              "<div>\n",
              "<style scoped>\n",
              "    .dataframe tbody tr th:only-of-type {\n",
              "        vertical-align: middle;\n",
              "    }\n",
              "\n",
              "    .dataframe tbody tr th {\n",
              "        vertical-align: top;\n",
              "    }\n",
              "\n",
              "    .dataframe thead th {\n",
              "        text-align: right;\n",
              "    }\n",
              "</style>\n",
              "<table border=\"1\" class=\"dataframe\">\n",
              "  <thead>\n",
              "    <tr style=\"text-align: right;\">\n",
              "      <th></th>\n",
              "      <th>emotion</th>\n",
              "      <th>pixels</th>\n",
              "      <th>Usage</th>\n",
              "    </tr>\n",
              "  </thead>\n",
              "  <tbody>\n",
              "    <tr>\n",
              "      <th>0</th>\n",
              "      <td>0</td>\n",
              "      <td>70 80 82 72 58 58 60 63 54 58 60 48 89 115 121...</td>\n",
              "      <td>Training</td>\n",
              "    </tr>\n",
              "    <tr>\n",
              "      <th>1</th>\n",
              "      <td>0</td>\n",
              "      <td>151 150 147 155 148 133 111 140 170 174 182 15...</td>\n",
              "      <td>Training</td>\n",
              "    </tr>\n",
              "    <tr>\n",
              "      <th>2</th>\n",
              "      <td>2</td>\n",
              "      <td>231 212 156 164 174 138 161 173 182 200 106 38...</td>\n",
              "      <td>Training</td>\n",
              "    </tr>\n",
              "    <tr>\n",
              "      <th>3</th>\n",
              "      <td>4</td>\n",
              "      <td>24 32 36 30 32 23 19 20 30 41 21 22 32 34 21 1...</td>\n",
              "      <td>Training</td>\n",
              "    </tr>\n",
              "    <tr>\n",
              "      <th>4</th>\n",
              "      <td>6</td>\n",
              "      <td>4 0 0 0 0 0 0 0 0 0 0 0 3 15 23 28 48 50 58 84...</td>\n",
              "      <td>Training</td>\n",
              "    </tr>\n",
              "    <tr>\n",
              "      <th>5</th>\n",
              "      <td>2</td>\n",
              "      <td>55 55 55 55 55 54 60 68 54 85 151 163 170 179 ...</td>\n",
              "      <td>Training</td>\n",
              "    </tr>\n",
              "    <tr>\n",
              "      <th>6</th>\n",
              "      <td>4</td>\n",
              "      <td>20 17 19 21 25 38 42 42 46 54 56 62 63 66 82 1...</td>\n",
              "      <td>Training</td>\n",
              "    </tr>\n",
              "    <tr>\n",
              "      <th>7</th>\n",
              "      <td>3</td>\n",
              "      <td>77 78 79 79 78 75 60 55 47 48 58 73 77 79 57 5...</td>\n",
              "      <td>Training</td>\n",
              "    </tr>\n",
              "    <tr>\n",
              "      <th>8</th>\n",
              "      <td>3</td>\n",
              "      <td>85 84 90 121 101 102 133 153 153 169 177 189 1...</td>\n",
              "      <td>Training</td>\n",
              "    </tr>\n",
              "    <tr>\n",
              "      <th>9</th>\n",
              "      <td>2</td>\n",
              "      <td>255 254 255 254 254 179 122 107 95 124 149 150...</td>\n",
              "      <td>Training</td>\n",
              "    </tr>\n",
              "  </tbody>\n",
              "</table>\n",
              "</div>"
            ],
            "text/plain": [
              "   emotion                                             pixels     Usage\n",
              "0        0  70 80 82 72 58 58 60 63 54 58 60 48 89 115 121...  Training\n",
              "1        0  151 150 147 155 148 133 111 140 170 174 182 15...  Training\n",
              "2        2  231 212 156 164 174 138 161 173 182 200 106 38...  Training\n",
              "3        4  24 32 36 30 32 23 19 20 30 41 21 22 32 34 21 1...  Training\n",
              "4        6  4 0 0 0 0 0 0 0 0 0 0 0 3 15 23 28 48 50 58 84...  Training\n",
              "5        2  55 55 55 55 55 54 60 68 54 85 151 163 170 179 ...  Training\n",
              "6        4  20 17 19 21 25 38 42 42 46 54 56 62 63 66 82 1...  Training\n",
              "7        3  77 78 79 79 78 75 60 55 47 48 58 73 77 79 57 5...  Training\n",
              "8        3  85 84 90 121 101 102 133 153 153 169 177 189 1...  Training\n",
              "9        2  255 254 255 254 254 179 122 107 95 124 149 150...  Training"
            ]
          },
          "metadata": {
            "tags": []
          },
          "execution_count": 16
        }
      ]
    },
    {
      "cell_type": "code",
      "metadata": {
        "trusted": true,
        "id": "SEv2gzrFuy2k",
        "colab_type": "code",
        "colab": {
          "base_uri": "https://localhost:8080/",
          "height": 294
        },
        "outputId": "8c769b8e-8d94-4075-bbde-9d7fc169aa5d"
      },
      "source": [
        "import matplotlib.pyplot as plt\n",
        "df['emotion'].value_counts().plot(kind='bar')\n",
        "plt.title(\"Distribution of emotions,(0=Angry, 1=Disgust, 2=Fear, 3=Happy, 4=Sad, 5=Surprised, 6=Neutral)\")"
      ],
      "execution_count": 17,
      "outputs": [
        {
          "output_type": "execute_result",
          "data": {
            "text/plain": [
              "Text(0.5, 1.0, 'Distribution of emotions,(0=Angry, 1=Disgust, 2=Fear, 3=Happy, 4=Sad, 5=Surprised, 6=Neutral)')"
            ]
          },
          "metadata": {
            "tags": []
          },
          "execution_count": 17
        },
        {
          "output_type": "display_data",
          "data": {
            "image/png": "[encoded data removed]",
            "text/plain": [
              "<Figure size 432x288 with 1 Axes>"
            ]
          },
          "metadata": {
            "tags": [],
            "needs_background": "light"
          }
        }
      ]
    },
    {
      "cell_type": "code",
      "metadata": {
        "trusted": true,
        "id": "0O_OeSxruy2o",
        "colab_type": "code",
        "colab": {
          "base_uri": "https://localhost:8080/",
          "height": 311
        },
        "outputId": "5a81037e-2a8a-420a-c1b4-476cbcc9e5fb"
      },
      "source": [
        "print(df.shape)\n",
        "df['emotion'] = df['emotion'].map( {0:0, 1:0, 2:1, 3:2, 4:3, 5:4, 6:5} ).astype(int)\n",
        "df['emotion'].value_counts().plot(kind='bar')\n",
        "plt.title(\"Distribution of emotions,(0=Angry,1=Fear, 2=Happy, 3 = Sad, 4=Surprised, 5=Neutral)\")\n",
        "print(df.shape)"
      ],
      "execution_count": 18,
      "outputs": [
        {
          "output_type": "stream",
          "text": [
            "(35887, 3)\n",
            "(35887, 3)\n"
          ],
          "name": "stdout"
        },
        {
          "output_type": "display_data",
          "data": {
            "image/png": "[encoded data removed]",
            "text/plain": [
              "<Figure size 432x288 with 1 Axes>"
            ]
          },
          "metadata": {
            "tags": [],
            "needs_background": "light"
          }
        }
      ]
    },
    {
      "cell_type": "code",
      "metadata": {
        "trusted": true,
        "id": "gNOv0KLGuy2q",
        "colab_type": "code",
        "colab": {
          "base_uri": "https://localhost:8080/",
          "height": 294
        },
        "outputId": "ba3e1a9b-aec6-4eaf-e6e3-38924e899b32"
      },
      "source": [
        "from sklearn.utils import shuffle\n",
        "\n",
        "#As there are higher number of 'Happy' images, making copies of other images\n",
        "df_copy = df[df['emotion'] != 2]\n",
        "df_copy = df_copy[:int(0.6*len(df_copy.index))]\n",
        "len(df_copy.index)\n",
        "new_df = shuffle(pd.concat([df,df_copy]))\n",
        "\n",
        "new_df['emotion'].value_counts().plot(kind='bar')\n",
        "plt.title(\"Distribution of emotions,(0=Angry,1=Fear, 2=Happy, 3 = Sad, 4=Surprise, 5=Neutral)\")\n",
        "print(new_df.shape)"
      ],
      "execution_count": 19,
      "outputs": [
        {
          "output_type": "stream",
          "text": [
            "(52025, 3)\n"
          ],
          "name": "stdout"
        },
        {
          "output_type": "display_data",
          "data": {
            "image/png": "[encoded data removed]",
            "text/plain": [
              "<Figure size 432x288 with 1 Axes>"
            ]
          },
          "metadata": {
            "tags": [],
            "needs_background": "light"
          }
        }
      ]
    },
    {
      "cell_type": "code",
      "metadata": {
        "trusted": true,
        "id": "w4JY2bqquy2t",
        "colab_type": "code",
        "colab": {
          "base_uri": "https://localhost:8080/",
          "height": 33
        },
        "outputId": "6d9ee5c7-2021-4b93-d569-66623cb287c2"
      },
      "source": [
        "# images are 48x48\n",
        "# N = 35887\n",
        "X_train, X_test, X_val, y_train, y_test, y_val = [], [], [], [], [], []\n",
        "#df = df[df.Usage == \"Training\"]\n",
        "print(new_df.shape)\n",
        "#first = True\n",
        "for index, row in new_df.iterrows():\n",
        "    if(row[2] == \"Training\"):\n",
        "        y_train.append(int(row[0]))\n",
        "        X_train.append([int(p) for p in row[1].split()])\n",
        "    elif(row[2] == \"PrivateTest\"):\n",
        "        y_test.append(int(row[0]))\n",
        "        X_test.append([int(p) for p in row[1].split()])\n",
        "    elif(row[2] == \"PublicTest\"):\n",
        "        y_val.append(int(row[0]))\n",
        "        X_val.append([int(p) for p in row[1].split()])\n",
        "\n",
        "#standardization\n",
        "X_train_st = np.array(X_train)\n",
        "X_test_st = np.array(X_test)\n",
        "X_val_st = np.array(X_val)\n",
        "X_train_st = X_train_st.reshape(X_train_st.shape[0], 48, 48, 1)\n",
        "X_test_st = X_test_st.reshape(X_test_st.shape[0], 48, 48, 1)\n",
        "X_val_st = X_val_st.reshape(X_val_st.shape[0], 48, 48, 1)\n",
        "#secondo navarin usare X_train_st per calcolare mean e std\n",
        "X_train_st = (X_train_st-np.mean(X_train_st, axis=0))/np.std(X_train_st,axis=0)\n",
        "X_test_st = (X_test_st-np.mean(X_train_st, axis=0))/np.std(X_train_st,axis=0)\n",
        "X_val_st = (X_val_st-np.mean(X_train_st, axis=0))/np.std(X_train_st,axis=0)\n",
        "\n",
        "\n",
        "#normalization\n",
        "X_train_norm = np.array(X_train) / 255.0\n",
        "X_test_norm = np.array(X_test) / 255.0\n",
        "X_val_norm = np.array(X_val) / 255.0\n",
        "y_train = np.array(y_train)\n",
        "y_test = np.array(y_test)\n",
        "y_val = np.array(y_val)\n",
        "\n",
        "'''#X = X.astype(\"float32\")\n",
        "#X /= 255\n",
        "#Y = to_categorical(Y)\n",
        "num_class = len(set(Y))\n",
        "print(num_class)'''\n",
        "\n",
        "X_train_norm = X_train_norm.reshape(X_train_norm.shape[0], 48, 48, 1)\n",
        "X_test_norm = X_test_norm.reshape(X_test_norm.shape[0], 48, 48, 1)\n",
        "X_val_norm = X_val_norm.reshape(X_val_norm.shape[0], 48, 48, 1)\n"
      ],
      "execution_count": 20,
      "outputs": [
        {
          "output_type": "stream",
          "text": [
            "(52025, 3)\n"
          ],
          "name": "stdout"
        }
      ]
    },
    {
      "cell_type": "code",
      "metadata": {
        "trusted": true,
        "id": "ix-QaeMUuy2w",
        "colab_type": "code",
        "colab": {
          "base_uri": "https://localhost:8080/",
          "height": 216
        },
        "outputId": "3619c492-8af9-4da4-da10-93568b7d2292"
      },
      "source": [
        "y_train = (np.arange(len(set(y_train))) == y_train[:, None]).astype(np.float32)\n",
        "y_test = (np.arange(len(set(y_test))) == y_test[:, None]).astype(np.float32)\n",
        "y_val = (np.arange(len(set(y_val))) == y_val[:, None]).astype(np.float32)\n",
        "print(\"st shapes\")\n",
        "print(X_train_st.shape)\n",
        "print(X_test_st.shape)\n",
        "print(X_val_st.shape)\n",
        "print(\"norm shapes\")\n",
        "print(X_train_norm.shape)\n",
        "print(X_test_norm.shape)\n",
        "print(X_val_norm.shape)\n",
        "print(\"y shapes\")\n",
        "print(y_train.shape)\n",
        "print(y_test.shape)\n",
        "print(y_val.shape)"
      ],
      "execution_count": 21,
      "outputs": [
        {
          "output_type": "stream",
          "text": [
            "st shapes\n",
            "(44847, 48, 48, 1)\n",
            "(3589, 48, 48, 1)\n",
            "(3589, 48, 48, 1)\n",
            "norm shapes\n",
            "(44847, 48, 48, 1)\n",
            "(3589, 48, 48, 1)\n",
            "(3589, 48, 48, 1)\n",
            "y shapes\n",
            "(44847, 6)\n",
            "(3589, 6)\n",
            "(3589, 6)\n"
          ],
          "name": "stdout"
        }
      ]
    },
    {
      "cell_type": "markdown",
      "metadata": {
        "id": "g8c7Hk5jvfok",
        "colab_type": "text"
      },
      "source": [
        "# OLDNET"
      ]
    },
    {
      "cell_type": "code",
      "metadata": {
        "id": "Izdk7cBMve0R",
        "colab_type": "code",
        "colab": {}
      },
      "source": [
        "def old_net(input_layer): #confirmed old_model.h5\n",
        "    modelN = keras.Sequential()\n",
        "    modelN.add(input_layer)\n",
        "    modelN.add(keras.layers.Conv2D(32, (3, 3), padding='same', activation='relu'))\n",
        "    modelN.add(keras.layers.Conv2D(32, (3, 3), padding='same', activation='relu'))\n",
        "    modelN.add(keras.layers.Conv2D(32, (3, 3), padding='same', activation='relu'))\n",
        "    modelN.add(keras.layers.MaxPool2D(pool_size=(2, 2)))\n",
        "    modelN.add(keras.layers.Dropout(0.25))#io\n",
        "    modelN.add(keras.layers.Conv2D(64, (3, 3), padding='same', activation='relu'))\n",
        "    modelN.add(keras.layers.Conv2D(64, (3, 3), padding='same', activation='relu'))\n",
        "    modelN.add(keras.layers.Conv2D(64, (3, 3), padding='same', activation='relu'))\n",
        "    modelN.add(keras.layers.MaxPool2D(pool_size=(2, 2)))\n",
        "    modelN.add(keras.layers.Dropout(0.4))#io\n",
        "    modelN.add(keras.layers.Conv2D(128, (3, 3), padding='same', activation='relu'))\n",
        "    modelN.add(keras.layers.Conv2D(128, (3, 3), padding='same', activation='relu'))\n",
        "    modelN.add(keras.layers.Conv2D(128, (3, 3), padding='same', activation='relu'))\n",
        "    modelN.add(keras.layers.MaxPool2D(pool_size=(2, 2)))\n",
        "    modelN.add(keras.layers.Dropout(0.3))#io\n",
        "    modelN.add(keras.layers.Flatten())  # this converts our 3D feature maps to 1D feature vectors\n",
        "    modelN.add(keras.layers.Dense(64, activation='relu'))\n",
        "    modelN.add(keras.layers.Dense(64, activation='relu'))\n",
        "    modelN.add(keras.layers.Dense(6, activation='softmax'))\n",
        "    modelN.compile(loss='categorical_crossentropy', optimizer='adam', metrics=['accuracy'])\n",
        "    return modelN"
      ],
      "execution_count": 22,
      "outputs": []
    },
    {
      "cell_type": "markdown",
      "metadata": {
        "id": "vebTAZ4GvoDf",
        "colab_type": "text"
      },
      "source": [
        "# VGG-B [24]"
      ]
    },
    {
      "cell_type": "code",
      "metadata": {
        "id": "LGZSp3kRih3Q",
        "colab_type": "code",
        "colab": {}
      },
      "source": [
        "def vgg_v0(input_layer): #confirmed m_vgg16_ADAM64_512\n",
        "    model = tf.keras.Sequential()\n",
        "    model.add(input_layer)\n",
        "    model.add(tf.keras.layers.Conv2D(64, (3, 3), padding='same', activation='relu'))\n",
        "    model.add(tf.keras.layers.Conv2D(64, (3, 3), padding='same', activation='relu'))\n",
        "    model.add(tf.keras.layers.MaxPool2D(pool_size=(2, 2), strides=(2,2)))\n",
        "    model.add(tf.keras.layers.Dropout(0.2))\n",
        "    model.add(tf.keras.layers.Conv2D(128, (3, 3), padding='same', activation='relu'))\n",
        "    model.add(tf.keras.layers.Conv2D(128, (3, 3), padding='same', activation='relu'))\n",
        "    model.add(tf.keras.layers.MaxPool2D(pool_size=(2, 2), strides=(2,2)))\n",
        "    model.add(tf.keras.layers.Dropout(0.6))\n",
        "    model.add(tf.keras.layers.Conv2D(256, (3, 3), padding='same', activation='relu'))\n",
        "    model.add(tf.keras.layers.Conv2D(256, (3, 3), padding='same', activation='relu'))\n",
        "    model.add(tf.keras.layers.MaxPool2D(pool_size=(2, 2), strides=(2,2)))\n",
        "    model.add(tf.keras.layers.Dropout(0.8))\n",
        "    model.add(tf.keras.layers.Conv2D(512, (3, 3), padding='same', activation='relu'))\n",
        "    model.add(tf.keras.layers.Conv2D(512, (3, 3), padding='same', activation='relu'))\n",
        "    model.add(tf.keras.layers.MaxPool2D(pool_size=(2, 2), strides=(2,2)))\n",
        "    model.add(tf.keras.layers.Dropout(0.4))\n",
        "\n",
        "    model.add(tf.keras.layers.Flatten())  # this converts our 3D feature maps to 1D feature vectors\n",
        "    model.add(tf.keras.layers.Dense(25, activation='relu')) # era 4096 ma penso sia proporzionale al n.classi => 1000:4096=6:x => x=25\n",
        "    model.add(tf.keras.layers.Dense(25, activation='relu'))\n",
        "    \n",
        "    model.add(tf.keras.layers.Dense(6, activation='softmax'))\n",
        "    model.compile(loss='categorical_crossentropy', optimizer='adam', metrics=['accuracy'])\n",
        "    return model\n",
        "\n",
        "def vgg_v1(input_layer): #confirmed for v1 e v2 non so che cambia\n",
        "    model = tf.keras.Sequential()\n",
        "    model.add(input_layer)\n",
        "    model.add(tf.keras.layers.Conv2D(64, (3, 3), activation='relu', data_format='channels_last', kernel_regularizer=tf.keras.regularizers.l2(0.01)))\n",
        "    model.add(tf.keras.layers.Conv2D(64, (3, 3), padding='same', activation='relu'))\n",
        "    model.add(tf.keras.layers.BatchNormalization())\n",
        "    model.add(tf.keras.layers.MaxPool2D(pool_size=(2, 2), strides=(2,2)))\n",
        "    model.add(tf.keras.layers.Dropout(0.5))\n",
        "    model.add(tf.keras.layers.Conv2D(128, (3, 3), padding='same', activation='relu'))\n",
        "    model.add(tf.keras.layers.Conv2D(128, (3, 3), padding='same', activation='relu'))\n",
        "    model.add(tf.keras.layers.BatchNormalization())\n",
        "    model.add(tf.keras.layers.MaxPool2D(pool_size=(2, 2), strides=(2,2)))\n",
        "    model.add(tf.keras.layers.Dropout(0.5))\n",
        "    model.add(tf.keras.layers.Conv2D(256, (3, 3), padding='same', activation='relu'))\n",
        "    model.add(tf.keras.layers.Conv2D(256, (3, 3), padding='same', activation='relu'))\n",
        "    model.add(tf.keras.layers.BatchNormalization())\n",
        "    model.add(tf.keras.layers.MaxPool2D(pool_size=(2, 2), strides=(2,2)))\n",
        "    model.add(tf.keras.layers.Dropout(0.5))\n",
        "    model.add(tf.keras.layers.Conv2D(512, (3, 3), padding='same', activation='relu'))\n",
        "    model.add(tf.keras.layers.Conv2D(512, (3, 3), padding='same', activation='relu'))\n",
        "    model.add(tf.keras.layers.BatchNormalization())\n",
        "    model.add(tf.keras.layers.MaxPool2D(pool_size=(2, 2), strides=(2,2)))\n",
        "    model.add(tf.keras.layers.Dropout(0.5))\n",
        "\n",
        "    model.add(tf.keras.layers.Flatten())  # this converts our 3D feature maps to 1D feature vectors\n",
        "\n",
        "    model.add(tf.keras.layers.Dense(512, activation='relu'))\n",
        "    model.add(tf.keras.layers.Dropout(0.4))\n",
        "    model.add(tf.keras.layers.Dense(256, activation='relu'))\n",
        "    model.add(tf.keras.layers.Dropout(0.4))\n",
        "    model.add(tf.keras.layers.Dense(128, activation='relu'))\n",
        "    model.add(tf.keras.layers.Dropout(0.5))\n",
        "    \n",
        "    model.add(tf.keras.layers.Dense(6, activation='softmax'))\n",
        "    model.compile(loss='categorical_crossentropy', optimizer='adam', metrics=['accuracy'])\n",
        "    return model\n",
        "\n",
        "def vgg_aut_v4(input_layer): #confirmed\n",
        "  num_features = 64\n",
        "  model = tf.keras.Sequential()\n",
        "\n",
        "  model.add(tf.keras.layers.Conv2D(num_features, kernel_size=(3, 3), activation='relu', input_shape=(48, 48, 1), data_format='channels_last', kernel_regularizer=tf.keras.regularizers.l2(0.01)))\n",
        "  model.add(tf.keras.layers.Conv2D(num_features, kernel_size=(3, 3), activation='relu', padding='same'))\n",
        "  model.add(tf.keras.layers.BatchNormalization())\n",
        "  model.add(tf.keras.layers.MaxPooling2D(pool_size=(2, 2), strides=(2, 2)))\n",
        "  model.add(tf.keras.layers.Dropout(0.5))\n",
        "\n",
        "  model.add(tf.keras.layers.Conv2D(2*num_features, kernel_size=(3, 3), activation='relu', padding='same'))\n",
        "  model.add(tf.keras.layers.BatchNormalization())\n",
        "  model.add(tf.keras.layers.Conv2D(2*num_features, kernel_size=(3, 3), activation='relu', padding='same'))\n",
        "  model.add(tf.keras.layers.BatchNormalization())\n",
        "  model.add(tf.keras.layers.MaxPooling2D(pool_size=(2, 2), strides=(2, 2)))\n",
        "  model.add(tf.keras.layers.Dropout(0.5))\n",
        "\n",
        "  model.add(tf.keras.layers.Conv2D(2*2*num_features, kernel_size=(3, 3), activation='relu', padding='same'))\n",
        "  model.add(tf.keras.layers.BatchNormalization())\n",
        "  model.add(tf.keras.layers.Conv2D(2*2*num_features, kernel_size=(3, 3), activation='relu', padding='same'))\n",
        "  model.add(tf.keras.layers.BatchNormalization())\n",
        "  model.add(tf.keras.layers.MaxPooling2D(pool_size=(2, 2), strides=(2, 2)))\n",
        "  model.add(tf.keras.layers.Dropout(0.5))\n",
        "\n",
        "  model.add(tf.keras.layers.Conv2D(2*2*2*num_features, kernel_size=(3, 3), activation='relu', padding='same'))\n",
        "  model.add(tf.keras.layers.BatchNormalization())\n",
        "  model.add(tf.keras.layers.Conv2D(2*2*2*num_features, kernel_size=(3, 3), activation='relu', padding='same'))\n",
        "  model.add(tf.keras.layers.BatchNormalization())\n",
        "  model.add(tf.keras.layers.MaxPooling2D(pool_size=(2, 2), strides=(2, 2)))\n",
        "  model.add(tf.keras.layers.Dropout(0.5))\n",
        "\n",
        "  model.add(tf.keras.layers.Flatten())\n",
        "\n",
        "  model.add(tf.keras.layers.Dense(2*2*2*num_features, activation='relu'))\n",
        "  model.add(tf.keras.layers.Dropout(0.4))\n",
        "  model.add(tf.keras.layers.Dense(2*2*num_features, activation='relu'))\n",
        "  model.add(tf.keras.layers.Dropout(0.4))\n",
        "  model.add(tf.keras.layers.Dense(2*num_features, activation='relu'))\n",
        "  model.add(tf.keras.layers.Dropout(0.5))\n",
        "\n",
        "  model.add(tf.keras.layers.Dense(6, activation='softmax'))\n",
        "\n",
        "  model.compile(loss='categorical_crossentropy', optimizer='adam', metrics=['accuracy'])\n",
        "  return model"
      ],
      "execution_count": 23,
      "outputs": []
    },
    {
      "cell_type": "markdown",
      "metadata": {
        "id": "ekYc9Vt-aVcd",
        "colab_type": "text"
      },
      "source": [
        "# INCEPTION"
      ]
    },
    {
      "cell_type": "code",
      "metadata": {
        "id": "AcEhOFGnx-_Q",
        "colab_type": "code",
        "colab": {}
      },
      "source": [
        "# occhio che c'è la L2\n",
        "def inception(inp,n,name): #confirmed  m_inception_v0\n",
        "  conv_1x1 = tf.keras.layers.Conv2D((3/4)*n, (1,1), padding='same', activation='relu', name=name+'_conv_1x1',kernel_regularizer=tf.keras.regularizers.l2(0.0002))(inp)\n",
        "\n",
        "  conv_3x3_reduce = tf.keras.layers.Conv2D((1/2)*n, (1,1), padding='same', activation='relu', name=name+'_conv_1x1_3x3_reduce',kernel_regularizer=tf.keras.regularizers.l2(0.0002))(inp)\n",
        "  conv_3x3_reduce = tf.keras.layers.Conv2D((1/2)*n, (3,3), padding='same', activation='relu', name=name+'_conv_3x3_reduce',kernel_regularizer=tf.keras.regularizers.l2(0.0002))(conv_3x3_reduce) # forse qui è n?\n",
        "\n",
        "  conv_5x5_reduce = tf.keras.layers.Conv2D((1/8)*n, (1,1), padding='same', activation='relu', name=name+'_conv_1x1_5x5_reduce',kernel_regularizer=tf.keras.regularizers.l2(0.0002))(inp)\n",
        "  conv_5x5_reduce = tf.keras.layers.Conv2D((1/8)*n, (5,5), padding='same', activation='relu', name=name+'_conv_5x5_reduce',kernel_regularizer=tf.keras.regularizers.l2(0.0002))(conv_5x5_reduce) # forse qui è n?\n",
        "\n",
        "  conv_5x5 = tf.keras.layers.Conv2D((1/4)*n, (5,5), padding='same', activation='relu', name=name+'_conv_5x5',kernel_regularizer=tf.keras.regularizers.l2(0.0002))(inp)\n",
        "\n",
        "  pool_proj = tf.keras.layers.MaxPool2D((3,3), strides=(1,1), padding='same', name=name+'_pool_proj')(inp)\n",
        "  pool_proj = tf.keras.layers.Conv2D((1/4)*n, (1,1), padding='same', activation='relu', name=name+'_conv_1x1_pool_proj',kernel_regularizer=tf.keras.regularizers.l2(0.0002))(pool_proj)\n",
        "\n",
        "  output = tf.keras.layers.concatenate([conv_1x1, conv_3x3_reduce, conv_5x5_reduce, conv_5x5, pool_proj], axis = 3)\n",
        "  \n",
        "  return output\n",
        "\n",
        "def inception_model(input_layer):\n",
        "  Inception1 = inception(input_layer,32,\"1\")\n",
        "  maxpool = tf.keras.layers.MaxPool2D((3,3), strides=2, padding='same', name='maxpool_1')(Inception1)\n",
        "  Inception2a = inception(maxpool,64,\"2a\")\n",
        "  Inception2b = inception(Inception2a,96,\"2b\")\n",
        "  maxpool = tf.keras.layers.MaxPool2D((3,3), strides=2, padding='same', name='maxpool_2')(Inception2b)\n",
        "\n",
        "  Inception3a = inception(maxpool,128,\"3a\")\n",
        "  Inception3b = inception(Inception3a,160,\"3b\")\n",
        "  maxpool = tf.keras.layers.MaxPool2D((3,3), strides=2, padding='same', name='maxpool_3')(Inception3b)\n",
        "\n",
        "  Inception4a = inception(maxpool,192,\"4a\")\n",
        "  Inception4b = inception(Inception4a,224,\"4b\")\n",
        "\n",
        "  avgpool = tf.keras.layers.AveragePooling2D(pool_size=(3,3), strides=(1,1), name='avgpool')(Inception4b) \n",
        "  flatten = tf.keras.layers.Flatten()(avgpool)\n",
        "  dropout = tf.keras.layers.Dropout(rate=0.4)(flatten)\n",
        "  output = tf.keras.layers.Dense(6, activation='softmax', name='dense_inception')(dropout)\n",
        "\n",
        "  model = tf.keras.models.Model(input_layer, output, name='inception')\n",
        "  model.compile(loss='categorical_crossentropy', optimizer='adam', metrics=['accuracy'])\n",
        "  return model"
      ],
      "execution_count": 24,
      "outputs": []
    },
    {
      "cell_type": "markdown",
      "metadata": {
        "id": "qIZbrmWFaYkj",
        "colab_type": "text"
      },
      "source": [
        "# RESNET"
      ]
    },
    {
      "cell_type": "code",
      "metadata": {
        "id": "ZP7SuQtYvvV9",
        "colab_type": "code",
        "colab": {}
      },
      "source": [
        "def relu_bn(inputs: tf.Tensor) -> tf.Tensor: # v0 v3 come v0 ma con 64 \n",
        "    relu = tf.keras.layers.ReLU()(inputs)\n",
        "    bn = tf.keras.layers.BatchNormalization()(relu)\n",
        "    return bn\n",
        "\n",
        "def residual_block(x: tf.Tensor, downsample: bool, filters: int, kernel_size: int = 3) -> tf.Tensor:\n",
        "    y = tf.keras.layers.Conv2D(kernel_size=kernel_size, strides= (1 if not downsample else 2), filters=filters, padding=\"same\")(x)\n",
        "    y = relu_bn(y)\n",
        "    y = tf.keras.layers.Conv2D(kernel_size=kernel_size, strides=1, filters=filters, padding=\"same\")(y)\n",
        "\n",
        "    if downsample:\n",
        "        x = tf.keras.layers.Conv2D(kernel_size=1, strides=2, filters=filters, padding=\"same\")(x)\n",
        "    out = tf.keras.layers.Add()([x, y])\n",
        "    out = relu_bn(out)\n",
        "    return out\n",
        "\n",
        "def create_res_net(input_layer, starting_filters, block_list):\n",
        "    \n",
        "    #input_layer = tf.keras.layers.Input(shape=(48,48,1))\n",
        "    num_filters = starting_filters\n",
        "\n",
        "    t = tf.keras.layers.BatchNormalization()(input_layer)\n",
        "    t = tf.keras.layers.Conv2D(kernel_size=3,strides=1,filters=num_filters,padding=\"same\")(t)\n",
        "    t = relu_bn(t)\n",
        "    \n",
        "    #num_blocks_list = [2,5,5,2] or [3,4,6,3]\n",
        "    num_blocks_list = block_list\n",
        "    for i in range(len(num_blocks_list)):\n",
        "        num_blocks = num_blocks_list[i]\n",
        "        for j in range(num_blocks):\n",
        "            t = residual_block(t, downsample=(j==0 and i!=0), filters=num_filters)\n",
        "        num_filters *= 2\n",
        "    \n",
        "    t = tf.keras.layers.AveragePooling2D(4)(t)\n",
        "    t = tf.keras.layers.Flatten()(t)\n",
        "    outputs = tf.keras.layers.Dense(6, activation='softmax')(t)\n",
        "    \n",
        "    model = tf.keras.models.Model(input_layer, outputs)\n",
        "    model.compile(loss='categorical_crossentropy', optimizer='adam', metrics=['accuracy'])\n",
        "    return model"
      ],
      "execution_count": 25,
      "outputs": []
    },
    {
      "cell_type": "code",
      "metadata": {
        "id": "iNqO4-y9txNU",
        "colab_type": "code",
        "colab": {
          "base_uri": "https://localhost:8080/",
          "height": 583
        },
        "outputId": "367ac264-ce07-4b47-9205-5a7d6a14361a"
      },
      "source": [
        "model_input = tf.keras.layers.Input(shape=(48,48,1))\n",
        "\n",
        "m_old = old_net(model_input)\n",
        "m_old._name=\"m_old\"\n",
        "print(m_old._name)\n",
        "m_vgg_v0 = vgg_v0(model_input)\n",
        "m_vgg_v0._name=\"m_vgg_v0\"\n",
        "m_vgg_v1 = vgg_v1(model_input)\n",
        "m_vgg_v1._name=\"m_vgg_v1\"\n",
        "m_vgg_v2 = vgg_v1(model_input)\n",
        "m_vgg_v2._name=\"m_vgg_v2\"\n",
        "m_vgg_v3 = vgg_v1(model_input)\n",
        "m_vgg_v3._name=\"m_vgg_v3\"\n",
        "m_vgg_aut_v4 = vgg_aut_v4(model_input)\n",
        "m_vgg_aut_v4._name=\"m_vgg_aut_v4\"\n",
        "m_inception = inception_model(model_input)\n",
        "m_inception._name=\"m_inception\"\n",
        "m_resnet_v0 = create_res_net(model_input, 32 , [3,4,6,3]) #v0\n",
        "m_resnet_v0._name=\"m_resnet_v0\"\n",
        "m_resnet_v2 = create_res_net(model_input, 64 , [2,5,5,2]) #v2\n",
        "m_resnet_v2._name=\"m_resnet_v2\"\n",
        "m_resnet_v3 = create_res_net(model_input, 64 , [3,4,6,3]) #v3\n",
        "m_resnet_v3._name=\"m_resnet_v3\"\n",
        "m_resnet_v4 = create_res_net(model_input, 64 , [3,4,6,3]) #v4\n",
        "m_resnet_v4._name=\"m_resnet_v4\"\n",
        "\n",
        "\n",
        "m_old.load_weights('/content/drive/My Drive/VCSproject/old_model.h5')\n",
        "scores = m_old.evaluate(X_val_norm, y_val, verbose=2)\n",
        "print(\"old_model\")\n",
        "print(\"%s: %.2f%%\" % (m_old.metrics_names[1], scores[1]*100))\n",
        "#m_old.save(\"/content/modelli/m_old.h5\")\n",
        "\n",
        "m_vgg_v0.load_weights('/content/drive/My Drive/VCSproject/m_vgg16_ADAM64_512.h5')\n",
        "scores = m_vgg_v0.evaluate(X_val_norm, y_val, verbose=2)\n",
        "print(\"m_vgg_v0\")\n",
        "print(\"%s: %.2f%%\" % (m_vgg_v0.metrics_names[1], scores[1]*100))\n",
        "#m_vgg_v0.save(\"/content/modelli/m_vgg_v0.h5\")\n",
        "\n",
        "m_vgg_v1.load_weights('/content/drive/My Drive/VCSproject/vgg_64_lrred_earlyst_checkp.h5')\n",
        "scores = m_vgg_v1.evaluate(X_val_norm, y_val, verbose=2)\n",
        "print(\"m_vgg_v1\")\n",
        "print(\"%s: %.2f%%\" % (m_vgg_v1.metrics_names[1], scores[1]*100))\n",
        "#m_vgg_v1.save(\"/content/modelli/m_vgg_v1.h5\")\n",
        "\n",
        "m_vgg_v2.load_weights('/content/drive/My Drive/VCSproject/vgg_64_lrred_v2_earlyst_checkp.h5')\n",
        "scores = m_vgg_v2.evaluate(X_val_norm, y_val, verbose=2)\n",
        "print(\"m_vgg_v2\")\n",
        "print(\"%s: %.2f%%\" % (m_vgg_v2.metrics_names[1], scores[1]*100))\n",
        "#m_vgg_v2.save(\"/content/modelli/m_vgg_v2.h5\")\n",
        "\n",
        "m_vgg_v3.load_weights('/content/drive/My Drive/VCSproject/vgg_64_lrred_v3_earlyst_checkp.h5')\n",
        "scores = m_vgg_v3.evaluate(X_val_norm, y_val, verbose=2)\n",
        "print(\"m_vgg_v3\")\n",
        "print(\"%s: %.2f%%\" % (m_vgg_v3.metrics_names[1], scores[1]*100))\n",
        "#m_vgg_v3.save(\"/content/modelli/m_vgg_v3.h5\")\n",
        "\n",
        "m_vgg_aut_v4.load_weights('/content/drive/My Drive/VCSproject/new_model_v3.h5')\n",
        "scores = m_vgg_aut_v4.evaluate(X_val_norm, y_val, verbose=2)\n",
        "print(\"m_vgg_aut_v4\")\n",
        "print(\"%s: %.2f%%\" % (m_vgg_aut_v4.metrics_names[1], scores[1]*100))\n",
        "#m_vgg_aut_v4.save(\"/content/modelli/m_vgg_aut_v4.h5\")\n",
        "\n",
        "m_inception.load_weights('/content/drive/My Drive/VCSproject/m_inception_v0.h5')\n",
        "scores = m_inception.evaluate(X_val_norm, y_val, verbose=2)\n",
        "print(\"m_inception\")\n",
        "print(\"%s: %.2f%%\" % (m_inception.metrics_names[1], scores[1]*100))\n",
        "#m_inception.save(\"/content/modelli/m_inception.h5\")\n",
        "\n",
        "m_resnet_v0.load_weights('/content/drive/My Drive/VCSproject/m_resnet_st_v0_150ep_newfrommedium.h5')\n",
        "scores = m_resnet_v0.evaluate(X_val_norm, y_val, verbose=2)\n",
        "print(\"m_resnet_v0\")\n",
        "print(\"%s: %.2f%%\" % (m_resnet_v0.metrics_names[1], scores[1]*100))\n",
        "#m_resnet_v0.save(\"/content/modelli/m_resnet_v0.h5\")\n",
        "\n",
        "m_resnet_v2.load_weights('/content/drive/My Drive/VCSproject/m_resnet_v2.h5')\n",
        "scores = m_resnet_v2.evaluate(X_val_norm, y_val, verbose=2)\n",
        "print(\"m_resnet_v2\")\n",
        "print(\"%s: %.2f%%\" % (m_resnet_v2.metrics_names[1], scores[1]*100))\n",
        "#m_resnet_v2.save(\"/content/modelli/m_resnet_v2.h5\")\n",
        "\n",
        "m_resnet_v3.load_weights('/content/drive/My Drive/VCSproject/m_resnet_v3.h5')\n",
        "scores = m_resnet_v3.evaluate(X_val_norm, y_val, verbose=2)\n",
        "print(\"m_resnet_v3\")\n",
        "print(\"%s: %.2f%%\" % (m_resnet_v3.metrics_names[1], scores[1]*100))\n",
        "#m_resnet_v3.save(\"/content/modelli/m_resnet_v3.h5\")\n",
        "\n",
        "m_resnet_v4.load_weights('/content/drive/My Drive/VCSproject/m_resnet_v4_64_lrred_earlyst_checkp_3_4_6_3.h5')\n",
        "scores = m_resnet_v4.evaluate(X_val_norm, y_val, verbose=2)\n",
        "print(\"m_resnet_v4\")\n",
        "print(\"%s: %.2f%%\" % (m_resnet_v4.metrics_names[1], scores[1]*100))"
      ],
      "execution_count": 26,
      "outputs": [
        {
          "output_type": "stream",
          "text": [
            "m_old\n",
            "113/113 - 1s - loss: 1.6486 - accuracy: 0.5921\n",
            "old_model\n",
            "accuracy: 59.21%\n",
            "113/113 - 1s - loss: 1.9546 - accuracy: 0.6227\n",
            "m_vgg_v0\n",
            "accuracy: 62.27%\n",
            "113/113 - 1s - loss: 1.0750 - accuracy: 0.6442\n",
            "m_vgg_v1\n",
            "accuracy: 64.42%\n",
            "113/113 - 1s - loss: 1.0986 - accuracy: 0.6378\n",
            "m_vgg_v2\n",
            "accuracy: 63.78%\n",
            "113/113 - 1s - loss: 1.1303 - accuracy: 0.6520\n",
            "m_vgg_v3\n",
            "accuracy: 65.20%\n",
            "113/113 - 1s - loss: 1.0496 - accuracy: 0.6492\n",
            "m_vgg_aut_v4\n",
            "accuracy: 64.92%\n",
            "113/113 - 2s - loss: 9.4103 - accuracy: 0.6241\n",
            "m_inception\n",
            "accuracy: 62.41%\n",
            "113/113 - 2s - loss: 2.9289 - accuracy: 0.6191\n",
            "m_resnet_v0\n",
            "accuracy: 61.91%\n",
            "113/113 - 5s - loss: 1.1248 - accuracy: 0.6202\n",
            "m_resnet_v2\n",
            "accuracy: 62.02%\n",
            "113/113 - 5s - loss: 2.2388 - accuracy: 0.6333\n",
            "m_resnet_v3\n",
            "accuracy: 63.33%\n",
            "113/113 - 5s - loss: 1.7726 - accuracy: 0.6211\n",
            "m_resnet_v4\n",
            "accuracy: 62.11%\n"
          ],
          "name": "stdout"
        }
      ]
    },
    {
      "cell_type": "code",
      "metadata": {
        "id": "I4srsmsdnQIy",
        "colab_type": "code",
        "colab": {}
      },
      "source": [
        "def compute_recalls_for_each_class(model) -> np.float64:\n",
        "  pred = model.predict(X_val_norm, batch_size = 32)\n",
        "  counters = np.zeros(6)\n",
        "  totals = np.zeros(6)\n",
        "  for i in range(len(pred)):\n",
        "    if np.sum(pred[i]) < 0.8: print (pred[i])\n",
        "    if np.argmax(pred[i]) == np.argmax(y_val[i]):# check if predicted is equal to target\n",
        "        counters[np.argmax(y_val[i])]+=1\n",
        "    totals[np.argmax(y_val[i])] += 1\n",
        "  result=counters/totals\n",
        "  \n",
        "  return result\n",
        "\n",
        "def compute_weights(models):\n",
        "  c=0\n",
        "  table = np.empty((len(models),6))\n",
        "  for model in models:\n",
        "      result=compute_recalls_for_each_class(model)\n",
        "      table[c]=result\n",
        "      c+=1\n",
        "  print(\"pesi\")\n",
        "  print(table)\n",
        "  weights = table/np.sum(table.T, axis=-1)# normalizzo \n",
        "  return weights"
      ],
      "execution_count": 29,
      "outputs": []
    },
    {
      "cell_type": "code",
      "metadata": {
        "id": "6y25Y1Q8mrZP",
        "colab_type": "code",
        "colab": {
          "base_uri": "https://localhost:8080/",
          "height": 183
        },
        "outputId": "08a90149-85da-41d6-b6d8-fd1eb66d7036"
      },
      "source": [
        "models = [m_vgg_v0, m_vgg_v1, m_vgg_v2, m_vgg_v3, m_vgg_aut_v4, m_inception, m_resnet_v2, m_resnet_v3, m_resnet_v4]\n",
        "weights=compute_weights(models)"
      ],
      "execution_count": 33,
      "outputs": [
        {
          "output_type": "stream",
          "text": [
            "pesi\n",
            "[[0.53537285 0.49193548 0.76871508 0.51607963 0.81927711 0.57001647]\n",
            " [0.55640535 0.39314516 0.8        0.59264931 0.82650602 0.62602965]\n",
            " [0.60803059 0.31854839 0.80335196 0.618683   0.7686747  0.61120264]\n",
            " [0.65774379 0.3608871  0.82011173 0.42725881 0.81204819 0.7693575 ]\n",
            " [0.60038241 0.40725806 0.81564246 0.47932619 0.79036145 0.72981878]\n",
            " [0.58891013 0.41733871 0.78882682 0.56202144 0.75903614 0.55518946]\n",
            " [0.64627151 0.34475806 0.79888268 0.39050536 0.77831325 0.6985173 ]\n",
            " [0.56787763 0.41532258 0.80893855 0.4992343  0.82891566 0.61943987]\n",
            " [0.63288719 0.39919355 0.83351955 0.51301685 0.75903614 0.50082372]]\n"
          ],
          "name": "stdout"
        }
      ]
    },
    {
      "cell_type": "code",
      "metadata": {
        "id": "whS8ThivAbGt",
        "colab_type": "code",
        "colab": {}
      },
      "source": [
        "def predict_with_ensamble(X_test, weights, l_models): # X_test of shape (n_sample, 48, 48, 6) credo\n",
        "  #VALUTAZIONE ENSEMBLE SUL TEST SET\n",
        "  yhats = np.empty((len(l_models),X_test.shape[0],6))\n",
        "\n",
        "  for c,model in enumerate(l_models):\n",
        "    tmp = model.predict(X_test)\n",
        "    tmp = np.array(tmp)\n",
        "\n",
        "    yhats[c] = tmp\n",
        "  return yhats\n",
        "\n",
        "def media_aritmetica(X_test, weights, l_models):\n",
        "  yhats = predict_with_ensamble(X_test, weights, l_models)\n",
        "  \n",
        "  media = np.zeros((yhats.shape[1],yhats.shape[2]))\n",
        "  for e in range(yhats.shape[1]): # esempi\n",
        "    for m in range(yhats.shape[0]):\n",
        "      media[e] = media[e] + yhats[m,e]\n",
        "    media[e] = media[e] / yhats.shape[0]\n",
        "\n",
        "  y_ensemble = np.argmax(media, axis=1)\n",
        "  return y_ensemble\n",
        "  \n",
        "def media_ponderata(X_test, weights, l_models):\n",
        "  yhats = predict_with_ensamble(X_test, weights, l_models)\n",
        "\n",
        "  media = np.zeros((yhats.shape[1],yhats.shape[2]))\n",
        "  for e in range(yhats.shape[1]): # esempi\n",
        "    for m in range(yhats.shape[0]):\n",
        "      media[e] = media[e] + (yhats[m,e] * weights[m])      \n",
        "\n",
        "  y_ensemble = np.argmax(media, axis=1)\n",
        "  return y_ensemble"
      ],
      "execution_count": 34,
      "outputs": []
    },
    {
      "cell_type": "code",
      "metadata": {
        "id": "-vpgtH_USIRX",
        "colab_type": "code",
        "colab": {
          "base_uri": "https://localhost:8080/",
          "height": 33
        },
        "outputId": "f8941fb9-f875-4bf5-8afe-3800640fd572"
      },
      "source": [
        "y_pred = media_ponderata(X_test_norm, weights, models)\n",
        "y_test_modified = np.argmax(y_test, axis=1)\n",
        "\n",
        "print(\"Accuracy: %.3f\" % (metrics.accuracy_score(y_test_modified, y_pred)*100))"
      ],
      "execution_count": 35,
      "outputs": [
        {
          "output_type": "stream",
          "text": [
            "Accuracy: 71.524\n"
          ],
          "name": "stdout"
        }
      ]
    },
    {
      "cell_type": "code",
      "metadata": {
        "id": "LCyOUdZOGPO1",
        "colab_type": "code",
        "colab": {}
      },
      "source": [
        ""
      ],
      "execution_count": null,
      "outputs": []
    }
  ]
}